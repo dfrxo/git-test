{
  "nbformat": 4,
  "nbformat_minor": 0,
  "metadata": {
    "colab": {
      "provenance": [],
      "include_colab_link": true
    },
    "kernelspec": {
      "name": "python3",
      "display_name": "Python 3"
    },
    "language_info": {
      "name": "python"
    }
  },
  "cells": [
    {
      "cell_type": "markdown",
      "metadata": {
        "id": "view-in-github",
        "colab_type": "text"
      },
      "source": [
        "<a href=\"https://colab.research.google.com/github/dfrxo/git-test/blob/main/Untitled1.ipynb\" target=\"_parent\"><img src=\"https://colab.research.google.com/assets/colab-badge.svg\" alt=\"Open In Colab\"/></a>"
      ]
    },
    {
      "cell_type": "code",
      "execution_count": null,
      "metadata": {
        "id": "vjy-pa2tvdbZ",
        "colab": {
          "base_uri": "https://localhost:8080/"
        },
        "outputId": "fcfab6ad-6b9f-4891-c803-7b780957236e"
      },
      "outputs": [
        {
          "output_type": "stream",
          "name": "stdout",
          "text": [
            "hello world!!\n",
            "david is a cat\n",
            "im hungry\n"
          ]
        }
      ],
      "source": [
        "print(\"hello world!!\")\n",
        "print(\"david is a cat\")\n",
        "print(\"im hungry\")"
      ]
    }
  ]
}